{
 "cells": [
  {
   "cell_type": "code",
   "execution_count": 1,
   "id": "c0c71a39",
   "metadata": {},
   "outputs": [],
   "source": [
    "import pandas as pd\n",
    "import numpy as np\n",
    "import matplotlib.pyplot as plt"
   ]
  },
  {
   "cell_type": "code",
   "execution_count": 2,
   "id": "f30a2df6",
   "metadata": {},
   "outputs": [
    {
     "ename": "FileNotFoundError",
     "evalue": "[Errno 2] File b'Placement_Data.csv' does not exist: b'Placement_Data.csv'",
     "output_type": "error",
     "traceback": [
      "\u001b[1;31m---------------------------------------------------------------------------\u001b[0m",
      "\u001b[1;31mFileNotFoundError\u001b[0m                         Traceback (most recent call last)",
      "\u001b[1;32m~\\AppData\\Local\\Temp\\ipykernel_10788\\3601444338.py\u001b[0m in \u001b[0;36m<module>\u001b[1;34m\u001b[0m\n\u001b[1;32m----> 1\u001b[1;33m \u001b[0mdataset\u001b[0m \u001b[1;33m=\u001b[0m \u001b[0mpd\u001b[0m\u001b[1;33m.\u001b[0m\u001b[0mread_csv\u001b[0m\u001b[1;33m(\u001b[0m\u001b[1;34m\"Placement_Data.csv\"\u001b[0m\u001b[1;33m)\u001b[0m\u001b[1;33m\u001b[0m\u001b[1;33m\u001b[0m\u001b[0m\n\u001b[0m",
      "\u001b[1;32m~\\anaconda3\\envs\\aiml\\lib\\site-packages\\pandas\\io\\parsers.py\u001b[0m in \u001b[0;36mparser_f\u001b[1;34m(filepath_or_buffer, sep, delimiter, header, names, index_col, usecols, squeeze, prefix, mangle_dupe_cols, dtype, engine, converters, true_values, false_values, skipinitialspace, skiprows, skipfooter, nrows, na_values, keep_default_na, na_filter, verbose, skip_blank_lines, parse_dates, infer_datetime_format, keep_date_col, date_parser, dayfirst, cache_dates, iterator, chunksize, compression, thousands, decimal, lineterminator, quotechar, quoting, doublequote, escapechar, comment, encoding, dialect, error_bad_lines, warn_bad_lines, delim_whitespace, low_memory, memory_map, float_precision)\u001b[0m\n\u001b[0;32m    683\u001b[0m         )\n\u001b[0;32m    684\u001b[0m \u001b[1;33m\u001b[0m\u001b[0m\n\u001b[1;32m--> 685\u001b[1;33m         \u001b[1;32mreturn\u001b[0m \u001b[0m_read\u001b[0m\u001b[1;33m(\u001b[0m\u001b[0mfilepath_or_buffer\u001b[0m\u001b[1;33m,\u001b[0m \u001b[0mkwds\u001b[0m\u001b[1;33m)\u001b[0m\u001b[1;33m\u001b[0m\u001b[1;33m\u001b[0m\u001b[0m\n\u001b[0m\u001b[0;32m    686\u001b[0m \u001b[1;33m\u001b[0m\u001b[0m\n\u001b[0;32m    687\u001b[0m     \u001b[0mparser_f\u001b[0m\u001b[1;33m.\u001b[0m\u001b[0m__name__\u001b[0m \u001b[1;33m=\u001b[0m \u001b[0mname\u001b[0m\u001b[1;33m\u001b[0m\u001b[1;33m\u001b[0m\u001b[0m\n",
      "\u001b[1;32m~\\anaconda3\\envs\\aiml\\lib\\site-packages\\pandas\\io\\parsers.py\u001b[0m in \u001b[0;36m_read\u001b[1;34m(filepath_or_buffer, kwds)\u001b[0m\n\u001b[0;32m    455\u001b[0m \u001b[1;33m\u001b[0m\u001b[0m\n\u001b[0;32m    456\u001b[0m     \u001b[1;31m# Create the parser.\u001b[0m\u001b[1;33m\u001b[0m\u001b[1;33m\u001b[0m\u001b[1;33m\u001b[0m\u001b[0m\n\u001b[1;32m--> 457\u001b[1;33m     \u001b[0mparser\u001b[0m \u001b[1;33m=\u001b[0m \u001b[0mTextFileReader\u001b[0m\u001b[1;33m(\u001b[0m\u001b[0mfp_or_buf\u001b[0m\u001b[1;33m,\u001b[0m \u001b[1;33m**\u001b[0m\u001b[0mkwds\u001b[0m\u001b[1;33m)\u001b[0m\u001b[1;33m\u001b[0m\u001b[1;33m\u001b[0m\u001b[0m\n\u001b[0m\u001b[0;32m    458\u001b[0m \u001b[1;33m\u001b[0m\u001b[0m\n\u001b[0;32m    459\u001b[0m     \u001b[1;32mif\u001b[0m \u001b[0mchunksize\u001b[0m \u001b[1;32mor\u001b[0m \u001b[0miterator\u001b[0m\u001b[1;33m:\u001b[0m\u001b[1;33m\u001b[0m\u001b[1;33m\u001b[0m\u001b[0m\n",
      "\u001b[1;32m~\\anaconda3\\envs\\aiml\\lib\\site-packages\\pandas\\io\\parsers.py\u001b[0m in \u001b[0;36m__init__\u001b[1;34m(self, f, engine, **kwds)\u001b[0m\n\u001b[0;32m    893\u001b[0m             \u001b[0mself\u001b[0m\u001b[1;33m.\u001b[0m\u001b[0moptions\u001b[0m\u001b[1;33m[\u001b[0m\u001b[1;34m\"has_index_names\"\u001b[0m\u001b[1;33m]\u001b[0m \u001b[1;33m=\u001b[0m \u001b[0mkwds\u001b[0m\u001b[1;33m[\u001b[0m\u001b[1;34m\"has_index_names\"\u001b[0m\u001b[1;33m]\u001b[0m\u001b[1;33m\u001b[0m\u001b[1;33m\u001b[0m\u001b[0m\n\u001b[0;32m    894\u001b[0m \u001b[1;33m\u001b[0m\u001b[0m\n\u001b[1;32m--> 895\u001b[1;33m         \u001b[0mself\u001b[0m\u001b[1;33m.\u001b[0m\u001b[0m_make_engine\u001b[0m\u001b[1;33m(\u001b[0m\u001b[0mself\u001b[0m\u001b[1;33m.\u001b[0m\u001b[0mengine\u001b[0m\u001b[1;33m)\u001b[0m\u001b[1;33m\u001b[0m\u001b[1;33m\u001b[0m\u001b[0m\n\u001b[0m\u001b[0;32m    896\u001b[0m \u001b[1;33m\u001b[0m\u001b[0m\n\u001b[0;32m    897\u001b[0m     \u001b[1;32mdef\u001b[0m \u001b[0mclose\u001b[0m\u001b[1;33m(\u001b[0m\u001b[0mself\u001b[0m\u001b[1;33m)\u001b[0m\u001b[1;33m:\u001b[0m\u001b[1;33m\u001b[0m\u001b[1;33m\u001b[0m\u001b[0m\n",
      "\u001b[1;32m~\\anaconda3\\envs\\aiml\\lib\\site-packages\\pandas\\io\\parsers.py\u001b[0m in \u001b[0;36m_make_engine\u001b[1;34m(self, engine)\u001b[0m\n\u001b[0;32m   1133\u001b[0m     \u001b[1;32mdef\u001b[0m \u001b[0m_make_engine\u001b[0m\u001b[1;33m(\u001b[0m\u001b[0mself\u001b[0m\u001b[1;33m,\u001b[0m \u001b[0mengine\u001b[0m\u001b[1;33m=\u001b[0m\u001b[1;34m\"c\"\u001b[0m\u001b[1;33m)\u001b[0m\u001b[1;33m:\u001b[0m\u001b[1;33m\u001b[0m\u001b[1;33m\u001b[0m\u001b[0m\n\u001b[0;32m   1134\u001b[0m         \u001b[1;32mif\u001b[0m \u001b[0mengine\u001b[0m \u001b[1;33m==\u001b[0m \u001b[1;34m\"c\"\u001b[0m\u001b[1;33m:\u001b[0m\u001b[1;33m\u001b[0m\u001b[1;33m\u001b[0m\u001b[0m\n\u001b[1;32m-> 1135\u001b[1;33m             \u001b[0mself\u001b[0m\u001b[1;33m.\u001b[0m\u001b[0m_engine\u001b[0m \u001b[1;33m=\u001b[0m \u001b[0mCParserWrapper\u001b[0m\u001b[1;33m(\u001b[0m\u001b[0mself\u001b[0m\u001b[1;33m.\u001b[0m\u001b[0mf\u001b[0m\u001b[1;33m,\u001b[0m \u001b[1;33m**\u001b[0m\u001b[0mself\u001b[0m\u001b[1;33m.\u001b[0m\u001b[0moptions\u001b[0m\u001b[1;33m)\u001b[0m\u001b[1;33m\u001b[0m\u001b[1;33m\u001b[0m\u001b[0m\n\u001b[0m\u001b[0;32m   1136\u001b[0m         \u001b[1;32melse\u001b[0m\u001b[1;33m:\u001b[0m\u001b[1;33m\u001b[0m\u001b[1;33m\u001b[0m\u001b[0m\n\u001b[0;32m   1137\u001b[0m             \u001b[1;32mif\u001b[0m \u001b[0mengine\u001b[0m \u001b[1;33m==\u001b[0m \u001b[1;34m\"python\"\u001b[0m\u001b[1;33m:\u001b[0m\u001b[1;33m\u001b[0m\u001b[1;33m\u001b[0m\u001b[0m\n",
      "\u001b[1;32m~\\anaconda3\\envs\\aiml\\lib\\site-packages\\pandas\\io\\parsers.py\u001b[0m in \u001b[0;36m__init__\u001b[1;34m(self, src, **kwds)\u001b[0m\n\u001b[0;32m   1915\u001b[0m         \u001b[0mkwds\u001b[0m\u001b[1;33m[\u001b[0m\u001b[1;34m\"usecols\"\u001b[0m\u001b[1;33m]\u001b[0m \u001b[1;33m=\u001b[0m \u001b[0mself\u001b[0m\u001b[1;33m.\u001b[0m\u001b[0musecols\u001b[0m\u001b[1;33m\u001b[0m\u001b[1;33m\u001b[0m\u001b[0m\n\u001b[0;32m   1916\u001b[0m \u001b[1;33m\u001b[0m\u001b[0m\n\u001b[1;32m-> 1917\u001b[1;33m         \u001b[0mself\u001b[0m\u001b[1;33m.\u001b[0m\u001b[0m_reader\u001b[0m \u001b[1;33m=\u001b[0m \u001b[0mparsers\u001b[0m\u001b[1;33m.\u001b[0m\u001b[0mTextReader\u001b[0m\u001b[1;33m(\u001b[0m\u001b[0msrc\u001b[0m\u001b[1;33m,\u001b[0m \u001b[1;33m**\u001b[0m\u001b[0mkwds\u001b[0m\u001b[1;33m)\u001b[0m\u001b[1;33m\u001b[0m\u001b[1;33m\u001b[0m\u001b[0m\n\u001b[0m\u001b[0;32m   1918\u001b[0m         \u001b[0mself\u001b[0m\u001b[1;33m.\u001b[0m\u001b[0munnamed_cols\u001b[0m \u001b[1;33m=\u001b[0m \u001b[0mself\u001b[0m\u001b[1;33m.\u001b[0m\u001b[0m_reader\u001b[0m\u001b[1;33m.\u001b[0m\u001b[0munnamed_cols\u001b[0m\u001b[1;33m\u001b[0m\u001b[1;33m\u001b[0m\u001b[0m\n\u001b[0;32m   1919\u001b[0m \u001b[1;33m\u001b[0m\u001b[0m\n",
      "\u001b[1;32mpandas/_libs/parsers.pyx\u001b[0m in \u001b[0;36mpandas._libs.parsers.TextReader.__cinit__\u001b[1;34m()\u001b[0m\n",
      "\u001b[1;32mpandas/_libs/parsers.pyx\u001b[0m in \u001b[0;36mpandas._libs.parsers.TextReader._setup_parser_source\u001b[1;34m()\u001b[0m\n",
      "\u001b[1;31mFileNotFoundError\u001b[0m: [Errno 2] File b'Placement_Data.csv' does not exist: b'Placement_Data.csv'"
     ]
    }
   ],
   "source": [
    "dataset = pd.read_csv(\"Placement_Data.csv\")"
   ]
  },
  {
   "cell_type": "code",
   "execution_count": null,
   "id": "c611f4f0",
   "metadata": {},
   "outputs": [],
   "source": [
    "dataset"
   ]
  },
  {
   "cell_type": "code",
   "execution_count": null,
   "id": "a5782f7f",
   "metadata": {},
   "outputs": [],
   "source": [
    "dataset.info()"
   ]
  },
  {
   "cell_type": "code",
   "execution_count": null,
   "id": "9f0e2013",
   "metadata": {},
   "outputs": [],
   "source": [
    "#Quan=[\"ssc_p\",\"hsc_p\",\"degree_p\",\"mba_p\",\"salary\"]\n",
    "#Qual=[\"gender\",\"ssc_b\",\"hsc_b\",\"degree_t\"]"
   ]
  },
  {
   "cell_type": "code",
   "execution_count": null,
   "id": "4b26d067",
   "metadata": {},
   "outputs": [],
   "source": [
    "dataset.columns"
   ]
  },
  {
   "cell_type": "code",
   "execution_count": null,
   "id": "7c7cdc2d",
   "metadata": {},
   "outputs": [],
   "source": [
    "dir(dataset)"
   ]
  },
  {
   "cell_type": "code",
   "execution_count": null,
   "id": "61a4cff2",
   "metadata": {},
   "outputs": [],
   "source": [
    "dataset.dtypes"
   ]
  },
  {
   "cell_type": "code",
   "execution_count": null,
   "id": "f6952870",
   "metadata": {},
   "outputs": [],
   "source": [
    "dataset[\"gender\"].dtypes"
   ]
  },
  {
   "cell_type": "code",
   "execution_count": null,
   "id": "b7879136",
   "metadata": {},
   "outputs": [],
   "source": [
    "dataset[\"etest_p\"].dtypes"
   ]
  },
  {
   "cell_type": "code",
   "execution_count": null,
   "id": "fd4df302",
   "metadata": {},
   "outputs": [],
   "source": [
    "for columnName in dataset.columns:\n",
    "    print(columnName)"
   ]
  },
  {
   "cell_type": "code",
   "execution_count": null,
   "id": "16b3732d",
   "metadata": {},
   "outputs": [],
   "source": [
    "if (dataset[\"gender\"].dtype=='O'):\n",
    "    print(\"qual\")\n",
    "else:\n",
    "    print(\"quan\")"
   ]
  },
  {
   "cell_type": "code",
   "execution_count": null,
   "id": "7c93e044",
   "metadata": {},
   "outputs": [],
   "source": [
    "if (dataset[\"ssc_p\"].dtype=='O'):\n",
    "    print(\"qual\")\n",
    "else:\n",
    "    print(\"quan\")"
   ]
  },
  {
   "cell_type": "code",
   "execution_count": null,
   "id": "45503f54",
   "metadata": {},
   "outputs": [],
   "source": [
    "quan = []\n",
    "qual = []\n",
    "\n",
    "for columnName in dataset.columns:\n",
    "    print(columnName)\n",
    "    if dataset[columnName].dtype == 'O':\n",
    "        print(\"qual\")\n",
    "        qual.append(columnName)\n",
    "    else:\n",
    "        print(\"quan\")\n",
    "        quan.append(columnName)"
   ]
  },
  {
   "cell_type": "code",
   "execution_count": null,
   "id": "9092d1e6",
   "metadata": {},
   "outputs": [],
   "source": [
    "quan"
   ]
  },
  {
   "cell_type": "code",
   "execution_count": null,
   "id": "12900858",
   "metadata": {},
   "outputs": [],
   "source": [
    "qual"
   ]
  },
  {
   "cell_type": "code",
   "execution_count": null,
   "id": "ab664b71",
   "metadata": {},
   "outputs": [],
   "source": [
    "def quanQual(dataset):\n",
    "\n",
    "    quan = []\n",
    "    qual = []\n",
    "    for columnName in dataset.columns:\n",
    "            #print(columnName)\n",
    "            if dataset[columnName].dtype == 'O':\n",
    "                #print(\"qual\")\n",
    "                qual.append(columnName)\n",
    "            else:\n",
    "                #print(\"quan\")\n",
    "                quan.append(columnName)\n",
    "    \n",
    "    return quan,qual\n",
    "    "
   ]
  },
  {
   "cell_type": "code",
   "execution_count": null,
   "id": "6aa05807",
   "metadata": {},
   "outputs": [],
   "source": [
    "quanQual(dataset)"
   ]
  },
  {
   "cell_type": "code",
   "execution_count": null,
   "id": "0b502763",
   "metadata": {},
   "outputs": [],
   "source": [
    "quan,qual=quanQual(dataset)"
   ]
  },
  {
   "cell_type": "code",
   "execution_count": null,
   "id": "e945e2c6",
   "metadata": {},
   "outputs": [],
   "source": [
    "quan"
   ]
  },
  {
   "cell_type": "code",
   "execution_count": null,
   "id": "e52e89fc",
   "metadata": {},
   "outputs": [],
   "source": [
    "qual"
   ]
  },
  {
   "cell_type": "code",
   "execution_count": null,
   "id": "4140aa11",
   "metadata": {},
   "outputs": [],
   "source": [
    "dataset"
   ]
  },
  {
   "cell_type": "markdown",
   "id": "bd7496f0",
   "metadata": {},
   "source": [
    "#central tendency\n"
   ]
  },
  {
   "cell_type": "code",
   "execution_count": null,
   "id": "25b7d699",
   "metadata": {},
   "outputs": [],
   "source": [
    "dataset[\"ssc_p\"].mean()"
   ]
  },
  {
   "cell_type": "code",
   "execution_count": null,
   "id": "cc8a8884",
   "metadata": {},
   "outputs": [],
   "source": [
    "dataset[\"ssc_p\"].median()"
   ]
  },
  {
   "cell_type": "code",
   "execution_count": null,
   "id": "4a749e68",
   "metadata": {},
   "outputs": [],
   "source": [
    "dataset[\"ssc_p\"].mode()[0]"
   ]
  },
  {
   "cell_type": "code",
   "execution_count": null,
   "id": "5d82165d",
   "metadata": {},
   "outputs": [],
   "source": [
    "dataset[\"hsc_p\"].mean()"
   ]
  },
  {
   "cell_type": "code",
   "execution_count": null,
   "id": "4e311b6c",
   "metadata": {},
   "outputs": [],
   "source": [
    "dataset[\"hsc_p\"].median()"
   ]
  },
  {
   "cell_type": "code",
   "execution_count": null,
   "id": "4098f60f",
   "metadata": {},
   "outputs": [],
   "source": [
    "dataset[\"hsc_p\"].mode()[0]"
   ]
  },
  {
   "cell_type": "code",
   "execution_count": null,
   "id": "9c614abc",
   "metadata": {},
   "outputs": [],
   "source": [
    "dataset[\"degree_p\"].mean()"
   ]
  },
  {
   "cell_type": "code",
   "execution_count": null,
   "id": "ffbc1d9c",
   "metadata": {},
   "outputs": [],
   "source": [
    "dataset[\"degree_p\"].median()\n"
   ]
  },
  {
   "cell_type": "code",
   "execution_count": null,
   "id": "02889d8b",
   "metadata": {},
   "outputs": [],
   "source": [
    "dataset[\"degree_p\"].mode()[0]"
   ]
  },
  {
   "cell_type": "code",
   "execution_count": null,
   "id": "15e9019d",
   "metadata": {},
   "outputs": [],
   "source": [
    "dataset.describe()"
   ]
  },
  {
   "cell_type": "code",
   "execution_count": null,
   "id": "be65173f",
   "metadata": {},
   "outputs": [],
   "source": [
    "descriptive=pd.DataFrame()"
   ]
  },
  {
   "cell_type": "code",
   "execution_count": null,
   "id": "1c32d53e",
   "metadata": {},
   "outputs": [],
   "source": [
    "descriptive=pd.DataFrame(index=[\"Mean\",\"Median\",\"Mode\"],columns=quan)"
   ]
  },
  {
   "cell_type": "code",
   "execution_count": null,
   "id": "e339db93",
   "metadata": {},
   "outputs": [],
   "source": [
    "descriptive"
   ]
  },
  {
   "cell_type": "code",
   "execution_count": null,
   "id": "7dcdd944",
   "metadata": {},
   "outputs": [],
   "source": [
    "descriptive[\"hsc_p\"][\"Median\"]=0"
   ]
  },
  {
   "cell_type": "code",
   "execution_count": null,
   "id": "99581376",
   "metadata": {},
   "outputs": [],
   "source": [
    "descriptive=pd.DataFrame(index=[\"Mean\",\"Median\",\"Mode\"],columns=quan)\n",
    "for columnName in quan:\n",
    "    descriptive[columnName][\"Mean\"]=dataset[columnName].mean()\n",
    "    descriptive[columnName][\"Median\"]=dataset[columnName].median()\n",
    "    descriptive[columnName][\"Mode\"]=dataset[columnName].mode()[0]\n",
    "\n",
    "\n",
    "\n",
    "\n"
   ]
  },
  {
   "cell_type": "code",
   "execution_count": null,
   "id": "636a14e9",
   "metadata": {},
   "outputs": [],
   "source": [
    "descriptive"
   ]
  },
  {
   "cell_type": "code",
   "execution_count": null,
   "id": "250d4d87",
   "metadata": {},
   "outputs": [],
   "source": [
    "import numpy as np"
   ]
  },
  {
   "cell_type": "code",
   "execution_count": null,
   "id": "1d6024b0",
   "metadata": {},
   "outputs": [],
   "source": [
    "np.percentile(dataset[\"ssc_p\"],100)"
   ]
  },
  {
   "cell_type": "code",
   "execution_count": null,
   "id": "7f557587",
   "metadata": {},
   "outputs": [],
   "source": [
    "descriptive=pd.DataFrame(index=[\"Mean\",\"Median\",\"Mode\",\"Q1:25%\",\"Q2:50%\",\"Q3:75%\",\"Q4:100%\"],columns=quan)\n",
    "for columnName in quan:\n",
    "    descriptive[columnName][\"Mean\"]=dataset[columnName].mean()\n",
    "    descriptive[columnName][\"Median\"]=dataset[columnName].median()\n",
    "    descriptive[columnName][\"Mode\"]=dataset[columnName].mode()[0]\n",
    "    descriptive[columnName][\"Q1:25%\"]=dataset.describe()[columnName][\"25%\"]\n",
    "    descriptive[columnName][\"Q2:50%\"]=dataset.describe()[columnName][\"50%\"]\n",
    "    descriptive[columnName][\"Q3:75%\"]=dataset.describe()[columnName][\"75%\"]\n",
    "    descriptive[columnName][\"Q4:100%\"]=dataset.describe()[columnName][\"max\"]                                                "
   ]
  },
  {
   "cell_type": "code",
   "execution_count": null,
   "id": "c2d470f6",
   "metadata": {},
   "outputs": [],
   "source": [
    "descriptive"
   ]
  },
  {
   "cell_type": "code",
   "execution_count": null,
   "id": "d235411e",
   "metadata": {},
   "outputs": [],
   "source": [
    "descriptive=pd.DataFrame(index=[\"Mean\",\"Median\",\"Mode\",\"Q1:25%\",\"Q2:50%\",\"Q3:75%\",\"Q4:100%\",\"IQR\",\"1.5rule\",\"Lesser\",\"Greater\",\"Min\",\"Max\",],columns=quan)\n",
    "for columnName in quan:\n",
    "    descriptive[columnName][\"Mean\"]=dataset[columnName].mean()\n",
    "    descriptive[columnName][\"Median\"]=dataset[columnName].median()\n",
    "    descriptive[columnName][\"Mode\"]=dataset[columnName].mode()[0]\n",
    "    descriptive[columnName][\"Q1:25%\"]=dataset.describe()[columnName][\"25%\"]\n",
    "    descriptive[columnName][\"Q2:50%\"]=dataset.describe()[columnName][\"50%\"]\n",
    "    descriptive[columnName][\"Q3:75%\"]=dataset.describe()[columnName][\"75%\"]\n",
    "    descriptive[columnName][\"Q4:100%\"]=dataset.describe()[columnName][\"max\"]  \n",
    "    descriptive[columnName][\"IQR\"]=descriptive[columnName][\"Q3:75%\"]=descriptive[columnName][\"Q1:25%\"]\n",
    "    descriptive[columnName][\"1.5rule\"]=1.5*descriptive[columnName][\"IQR\"]\n",
    "    descriptive[columnName][\"Lesser\"]=descriptive[columnName][\"Q1:25%\"]=descriptive[columnName][\"1.5rule\"]\n",
    "    descriptive[columnName][\"Greater\"]=descriptive[columnName][\"Q3:75%\"]=descriptive[columnName][\"1.5rule\"]\n",
    "    descriptive[columnName][\"Min\"]=dataset[columnName].min()\n",
    "    descriptive[columnName][\"Max\"]=dataset[columnName].max()"
   ]
  },
  {
   "cell_type": "code",
   "execution_count": null,
   "id": "0113062a",
   "metadata": {},
   "outputs": [],
   "source": [
    "descriptive"
   ]
  },
  {
   "cell_type": "code",
   "execution_count": null,
   "id": "c7905aef",
   "metadata": {},
   "outputs": [],
   "source": [
    "dataset[\"ssc_p\"].value_counts().sort_values"
   ]
  },
  {
   "cell_type": "code",
   "execution_count": null,
   "id": "80e732b1",
   "metadata": {},
   "outputs": [],
   "source": [
    "freqTable=pd.DataFrame(columns=[\"Unique_values\",\"Frequency\",\"Relative Frequency\",\"Cumsum\"])"
   ]
  },
  {
   "cell_type": "code",
   "execution_count": null,
   "id": "f6b53021",
   "metadata": {},
   "outputs": [],
   "source": [
    "freqTable"
   ]
  },
  {
   "cell_type": "code",
   "execution_count": null,
   "id": "6d0c3341",
   "metadata": {},
   "outputs": [],
   "source": [
    "freqTable[\"Unique_values\"]=dataset[\"ssc_p\"].value_counts().index\n",
    "freqTable[\"Frequency\"]=dataset[\"ssc_p\"].value_counts().values\n",
    "freqTable[\"Relative Frequency\"]=(freqTable[\"Frequency\"]/103)\n",
    "freqTable[\"cumsum\"]=freqTable[\"Relative Frequency\"].cumsum"
   ]
  },
  {
   "cell_type": "code",
   "execution_count": null,
   "id": "f47e6bd7",
   "metadata": {},
   "outputs": [],
   "source": [
    "import pandas as pd\n",
    "def freqTable(columnName,dataset):\n",
    "    freqTable=pd.DataFrame(columns=[\"Unique_values\",\"Frequency\",\"Relative Frequency\",\"cumsum\"])\n",
    "    freqTable[\"Unique_values\"]=dataset[columnName].value_counts().index\n",
    "    freqTable[\"Frequency\"]=dataset[columnName].value_counts().values\n",
    "    freqTable[\"Relative Frequency\"]=(freqTable[\"Frequency\"]/103)\n",
    "    freqTable[\"cumsum\"]=freqTable[\"Relative Frequency\"].cumsum()\n",
    "    return freqTable"
   ]
  },
  {
   "cell_type": "code",
   "execution_count": null,
   "id": "b97d104f",
   "metadata": {},
   "outputs": [],
   "source": [
    "\n",
    "freqTable(\"hsc_p\",dataset)"
   ]
  },
  {
   "cell_type": "code",
   "execution_count": null,
   "id": "0af06cf4",
   "metadata": {},
   "outputs": [],
   "source": [
    "print(dataset.columns)\n"
   ]
  },
  {
   "cell_type": "code",
   "execution_count": null,
   "id": "eb925a0a",
   "metadata": {},
   "outputs": [],
   "source": [
    "freqTable(\"ssc_p\",dataset)"
   ]
  },
  {
   "cell_type": "code",
   "execution_count": null,
   "id": "d8b0b3fa",
   "metadata": {},
   "outputs": [],
   "source": [
    "def Univariate(dataset,quan):\n",
    "    descriptive=pd.DataFrame(index=[\"Mean\",\"Median\",\"Mode\",\"Q1:25%\",\"Q2:50%\",\"Q3:75%\",\"Q4:100%\",\"IQR\",\"1.5rule\",\"Lesser\",\"Greater\",\"Min\",\"Max\",],columns=quan)\n",
    "    for columnName in quan:\n",
    "        descriptive[columnName][\"Mean\"]=dataset[columnName].mean()\n",
    "        descriptive[columnName][\"Median\"]=dataset[columnName].median()\n",
    "        descriptive[columnName][\"Mode\"]=dataset[columnName].mode()[0]\n",
    "        descriptive[columnName][\"Q1:25%\"]=dataset.describe()[columnName][\"25%\"]\n",
    "        descriptive[columnName][\"Q2:50%\"]=dataset.describe()[columnName][\"50%\"]\n",
    "        descriptive[columnName][\"Q3:75%\"]=dataset.describe()[columnName][\"75%\"]\n",
    "        descriptive[columnName][\"Q4:100%\"]=dataset.describe()[columnName][\"max\"]  \n",
    "        descriptive[columnName][\"IQR\"]=descriptive[columnName][\"Q3:75%\"]=descriptive[columnName][\"Q1:25%\"]\n",
    "        descriptive[columnName][\"1.5rule\"]=1.5*descriptive[columnName][\"IQR\"]\n",
    "        descriptive[columnName][\"Lesser\"]=descriptive[columnName][\"Q1:25%\"]=descriptive[columnName][\"1.5rule\"]\n",
    "        descriptive[columnName][\"Greater\"]=descriptive[columnName][\"Q3:75%\"]=descriptive[columnName][\"1.5rule\"]\n",
    "        descriptive[columnName][\"Min\"]=dataset[columnName].min()\n",
    "        descriptive[columnName][\"Max\"]=dataset[columnName].max()\n",
    "    return descriptive"
   ]
  },
  {
   "cell_type": "raw",
   "id": "66aacd7d",
   "metadata": {},
   "source": []
  },
  {
   "cell_type": "code",
   "execution_count": null,
   "id": "0e1da9f9",
   "metadata": {},
   "outputs": [],
   "source": [
    "Univariate(dataset,quan)"
   ]
  },
  {
   "cell_type": "code",
   "execution_count": null,
   "id": "f4744b9a",
   "metadata": {},
   "outputs": [],
   "source": [
    "def Univariate(dataset,quan):\n",
    "    descriptive=pd.DataFrame(index=[\"Mean\",\"Median\",\"Mode\",\"Q1:25%\",\"Q2:50%\",\"Q3:75%\",\"Q4:100%\",\"IQR\",\"1.5rule\",\"Lesser\",\"Greater\",\"Min\",\"Max\",\"skew\",\"kurtosis\"],columns=quan)\n",
    "    for columnName in quan:\n",
    "        descriptive[columnName][\"Mean\"]=dataset[columnName].mean()\n",
    "        descriptive[columnName][\"Median\"]=dataset[columnName].median()\n",
    "        descriptive[columnName][\"Mode\"]=dataset[columnName].mode()[0]\n",
    "        descriptive[columnName][\"Q1:25%\"]=dataset.describe()[columnName][\"25%\"]\n",
    "        descriptive[columnName][\"Q2:50%\"]=dataset.describe()[columnName][\"50%\"]\n",
    "        descriptive[columnName][\"Q3:75%\"]=dataset.describe()[columnName][\"75%\"]\n",
    "        descriptive[columnName][\"Q4:100%\"]=dataset.describe()[columnName][\"max\"]  \n",
    "        descriptive[columnName][\"IQR\"]=descriptive[columnName][\"Q3:75%\"]=descriptive[columnName][\"Q1:25%\"]\n",
    "        descriptive[columnName][\"1.5rule\"]=1.5*descriptive[columnName][\"IQR\"]\n",
    "        descriptive[columnName][\"Lesser\"]=descriptive[columnName][\"Q1:25%\"]=descriptive[columnName][\"1.5rule\"]\n",
    "        descriptive[columnName][\"Greater\"]=descriptive[columnName][\"Q3:75%\"]=descriptive[columnName][\"1.5rule\"]\n",
    "        descriptive[columnName][\"Min\"]=dataset[columnName].min()\n",
    "        descriptive[columnName][\"Max\"]=dataset[columnName].max()\n",
    "        descriptive[columnName][\"skew\"]=dataset[columnName].skew()\n",
    "        descriptive[columnName][\"kurtosis\"]=dataset[columnName].kurtosis()\n",
    "    return "
   ]
  },
  {
   "cell_type": "code",
   "execution_count": null,
   "id": "2b573bf9",
   "metadata": {},
   "outputs": [],
   "source": [
    "Univariate(dataset,quan)"
   ]
  },
  {
   "cell_type": "code",
   "execution_count": null,
   "id": "0923d61e",
   "metadata": {},
   "outputs": [],
   "source": []
  }
 ],
 "metadata": {
  "kernelspec": {
   "display_name": "Python 3 (ipykernel)",
   "language": "python",
   "name": "python3"
  },
  "language_info": {
   "codemirror_mode": {
    "name": "ipython",
    "version": 3
   },
   "file_extension": ".py",
   "mimetype": "text/x-python",
   "name": "python",
   "nbconvert_exporter": "python",
   "pygments_lexer": "ipython3",
   "version": "3.7.1"
  }
 },
 "nbformat": 4,
 "nbformat_minor": 5
}
